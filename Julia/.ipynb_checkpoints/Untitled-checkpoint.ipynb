{
 "cells": [
  {
   "cell_type": "code",
   "execution_count": 7,
   "id": "4829011e",
   "metadata": {},
   "outputs": [
    {
     "data": {
      "text/plain": [
       "LengthL2 (generic function with 1 method)"
      ]
     },
     "execution_count": 7,
     "metadata": {},
     "output_type": "execute_result"
    }
   ],
   "source": [
    "function LengthL2(Xs::Array)\n",
    "    println(\"func arg - %s\", Xs)\n",
    "\n",
    "    if Xs == []\n",
    "        return 0\n",
    "    end\n",
    "\n",
    "    head = Xs[1]\n",
    "    tail = Xs[2:end]\n",
    "    println(\"head - %s\", head)\n",
    "    println(\"tail - %s\", tail)\n",
    "    println()\n",
    "    if tail == []\n",
    "        return 1    \n",
    "    end\n",
    "\n",
    "    return LengthL2([head]) + LengthL2(tail)\n",
    "    \n",
    "end\n"
   ]
  },
  {
   "cell_type": "code",
   "execution_count": 6,
   "id": "de20c244",
   "metadata": {},
   "outputs": [
    {
     "name": "stdout",
     "output_type": "stream",
     "text": [
      "func arg - %sAny[[9, 7], 3, [5, 0, 1], 7]\n",
      "[9, 7]\n",
      "Any[3, [5, 0, 1], 7]\n",
      "func arg - %s[[9, 7]]\n",
      "[9, 7]\n",
      "Vector{Int64}[]\n",
      "func arg - %sAny[3, [5, 0, 1], 7]\n",
      "3\n",
      "Any[[5, 0, 1], 7]\n",
      "func arg - %s[3]\n",
      "3\n",
      "Int64[]\n",
      "func arg - %sAny[[5, 0, 1], 7]\n",
      "[5, 0, 1]\n",
      "Any[7]\n",
      "func arg - %s[[5, 0, 1]]\n",
      "[5, 0, 1]\n",
      "Vector{Int64}[]\n",
      "func arg - %sAny[7]\n",
      "7\n",
      "Any[]\n",
      "4\n"
     ]
    }
   ],
   "source": [
    "println( LengthL2([[9,7],3,[5,0,1],7]) ) # 4"
   ]
  },
  {
   "cell_type": "code",
   "execution_count": null,
   "id": "73e068c1",
   "metadata": {},
   "outputs": [],
   "source": []
  },
  {
   "cell_type": "code",
   "execution_count": null,
   "id": "20d0ffde",
   "metadata": {},
   "outputs": [],
   "source": []
  },
  {
   "cell_type": "code",
   "execution_count": null,
   "id": "7414c0c9",
   "metadata": {},
   "outputs": [],
   "source": []
  },
  {
   "cell_type": "code",
   "execution_count": null,
   "id": "68b7e5d7",
   "metadata": {},
   "outputs": [],
   "source": []
  },
  {
   "cell_type": "code",
   "execution_count": null,
   "id": "debdb552",
   "metadata": {},
   "outputs": [],
   "source": []
  }
 ],
 "metadata": {
  "kernelspec": {
   "display_name": "Julia 1.6.1",
   "language": "julia",
   "name": "julia-1.6"
  },
  "language_info": {
   "file_extension": ".jl",
   "mimetype": "application/julia",
   "name": "julia",
   "version": "1.6.1"
  }
 },
 "nbformat": 4,
 "nbformat_minor": 5
}
