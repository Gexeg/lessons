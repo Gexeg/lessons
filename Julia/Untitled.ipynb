{
 "cells": [
  {
   "cell_type": "code",
   "execution_count": 10,
   "id": "4829011e",
   "metadata": {},
   "outputs": [
    {
     "data": {
      "text/plain": [
       "LengthL2 (generic function with 1 method)"
      ]
     },
     "execution_count": 10,
     "metadata": {},
     "output_type": "execute_result"
    }
   ],
   "source": [
    "function LengthL2(Xs::Array)\n",
    "    println(\"func arg - \", Xs)\n",
    "\n",
    "    if Xs == []\n",
    "        return 0\n",
    "    end\n",
    "\n",
    "    head = Xs[1]\n",
    "    tail = Xs[2:end]\n",
    "    println(\"head - \", head)\n",
    "    println(\"tail - \", tail)\n",
    "    println()\n",
    "    if tail == []\n",
    "        return 1    \n",
    "    end\n",
    "\n",
    "    return LengthL2([head]) + LengthL2(tail)\n",
    "    \n",
    "end\n"
   ]
  },
  {
   "cell_type": "code",
   "execution_count": 11,
   "id": "de20c244",
   "metadata": {},
   "outputs": [
    {
     "name": "stdout",
     "output_type": "stream",
     "text": [
      "func arg - Any[[9, 7], 3, [5, 0, 1], 7]\n",
      "head - [9, 7]\n",
      "tail - Any[3, [5, 0, 1], 7]\n",
      "\n",
      "func arg - [[9, 7]]\n",
      "head - [9, 7]\n",
      "tail - Vector{Int64}[]\n",
      "\n",
      "func arg - Any[3, [5, 0, 1], 7]\n",
      "head - 3\n",
      "tail - Any[[5, 0, 1], 7]\n",
      "\n",
      "func arg - [3]\n",
      "head - 3\n",
      "tail - Int64[]\n",
      "\n",
      "func arg - Any[[5, 0, 1], 7]\n",
      "head - [5, 0, 1]\n",
      "tail - Any[7]\n",
      "\n",
      "func arg - [[5, 0, 1]]\n",
      "head - [5, 0, 1]\n",
      "tail - Vector{Int64}[]\n",
      "\n",
      "func arg - Any[7]\n",
      "head - 7\n",
      "tail - Any[]\n",
      "\n",
      "4\n"
     ]
    }
   ],
   "source": [
    "println( LengthL2([[9,7],3,[5,0,1],7]) ) # 4"
   ]
  },
  {
   "cell_type": "code",
   "execution_count": null,
   "id": "73e068c1",
   "metadata": {},
   "outputs": [],
   "source": []
  },
  {
   "cell_type": "code",
   "execution_count": null,
   "id": "20d0ffde",
   "metadata": {},
   "outputs": [],
   "source": []
  },
  {
   "cell_type": "code",
   "execution_count": null,
   "id": "7414c0c9",
   "metadata": {},
   "outputs": [],
   "source": []
  },
  {
   "cell_type": "code",
   "execution_count": null,
   "id": "68b7e5d7",
   "metadata": {},
   "outputs": [],
   "source": []
  },
  {
   "cell_type": "code",
   "execution_count": null,
   "id": "debdb552",
   "metadata": {},
   "outputs": [],
   "source": []
  }
 ],
 "metadata": {
  "kernelspec": {
   "display_name": "Julia 1.6.1",
   "language": "julia",
   "name": "julia-1.6"
  },
  "language_info": {
   "file_extension": ".jl",
   "mimetype": "application/julia",
   "name": "julia",
   "version": "1.6.1"
  }
 },
 "nbformat": 4,
 "nbformat_minor": 5
}
